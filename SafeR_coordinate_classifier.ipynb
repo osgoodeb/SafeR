{
  "cells": [
    {
      "cell_type": "markdown",
      "metadata": {
        "id": "view-in-github",
        "colab_type": "text"
      },
      "source": [
        "<a href=\"https://colab.research.google.com/github/osgoodeb/SafeR/blob/main/SafeR_coordinate_classifier.ipynb\" target=\"_parent\"><img src=\"https://colab.research.google.com/assets/colab-badge.svg\" alt=\"Open In Colab\"/></a>"
      ]
    },
    {
      "cell_type": "code",
      "execution_count": null,
      "metadata": {
        "colab": {
          "base_uri": "https://localhost:8080/"
        },
        "id": "X27tP8_1Zdq2",
        "outputId": "16c9c21b-9607-4827-94f1-f127afe25530"
      },
      "outputs": [
        {
          "output_type": "stream",
          "name": "stdout",
          "text": [
            "Data dimensions: (3361, 5)\n",
            "Data preview: \n",
            "         lat      long category  quantity    year\n",
            "0  28.53632  77.24920   murder       0.0  2021.0\n",
            "1  28.61268  77.08600   murder       1.0  2021.0\n",
            "2  28.52989  77.20418   murder       1.0  2021.0\n",
            "3  28.64361  77.23608   murder       0.0  2021.0\n",
            "4  28.70257  77.19369   murder       0.0  2021.0\n"
          ]
        }
      ],
      "source": [
        "import numpy as np\n",
        "import pandas as pd\n",
        "import math\n",
        "import csv"
      ]
    },
    {
      "cell_type": "code",
      "source": [
        "# Reading the csv to a dataframe, deleting any bad columns, and previewing the data\n",
        "data = pd.read_csv('MainDataset.csv')\n",
        "for column in data.columns:\n",
        "  if 'Unnamed' in column:\n",
        "    data.drop(columns = [column], inplace=True)\n",
        "print('Data dimensions:', np.shape(data))\n",
        "print('Data preview: \\n', data.head())"
      ],
      "metadata": {
        "id": "KoJXarKAUNP3"
      },
      "execution_count": null,
      "outputs": []
    },
    {
      "cell_type": "code",
      "execution_count": null,
      "metadata": {
        "colab": {
          "base_uri": "https://localhost:8080/"
        },
        "id": "-TcAZWBX7oJW",
        "outputId": "041c57e1-1e64-4af7-b0d5-cf3c3bf5fb01"
      },
      "outputs": [
        {
          "output_type": "stream",
          "name": "stdout",
          "text": [
            "Vertical zones: 43\n",
            "Horizontal zones: 41\n",
            "Total zones: 1763\n"
          ]
        }
      ],
      "source": [
        "# Determining the number of zones needed\n",
        "lat_min = np.min(data['lat'])\n",
        "lat_max = np.max(data['lat'])\n",
        "lat_zones = math.ceil(110.574 * (lat_max - lat_min))\n",
        "long_min = np.min(data['long'])\n",
        "long_max = np.max(data['long'])\n",
        "lat_avg_rad = (lat_min + lat_max) / 2 * math.pi / 180\n",
        "long_zones = math.ceil(111.320 * math.cos(lat_avg_rad) * (long_max - long_min))\n",
        "print('Vertical zones:', lat_zones)\n",
        "print('Horizontal zones:', long_zones)\n",
        "print('Total zones:', lat_zones * long_zones)"
      ]
    },
    {
      "cell_type": "code",
      "execution_count": null,
      "metadata": {
        "colab": {
          "base_uri": "https://localhost:8080/"
        },
        "id": "uuYR2ptTCewB",
        "outputId": "76566f33-5d30-4d38-a0d4-c05dfb2c0e0b"
      },
      "outputs": [
        {
          "output_type": "stream",
          "name": "stdout",
          "text": [
            "Latitude cutoffs: [28.46549, 28.47453371732957, 28.483577434659143, 28.49262115198871, 28.501664869318283, 28.510708586647855, 28.519752303977427, 28.528796021307, 28.537839738636567, 28.54688345596614, 28.55592717329571, 28.564970890625283, 28.574014607954854, 28.583058325284423, 28.592102042613995, 28.601145759943567, 28.61018947727314, 28.61923319460271, 28.62827691193228, 28.63732062926185, 28.646364346591422, 28.655408063920994, 28.664451781250563, 28.673495498580134, 28.682539215909706, 28.691582933239278, 28.70062665056885, 28.70967036789842, 28.71871408522799, 28.727757802557562, 28.736801519887134, 28.745845237216706, 28.754888954546274, 28.763932671875846, 28.772976389205418, 28.78202010653499, 28.79106382386456, 28.80010754119413, 28.809151258523702, 28.818194975853274, 28.827238693182846, 28.836282410512418, 28.845326127841986, 28.854369845171558]\n",
            "Longitude cutoffs: [76.91555, 76.92343256063715, 76.93131512127431, 76.93919768191147, 76.94708024254862, 76.95496280318578, 76.96284536382292, 76.97072792446008, 76.97861048509724, 76.98649304573439, 76.99437560637155, 77.0022581670087, 77.01014072764586, 77.01802328828302, 77.02590584892017, 77.03378840955733, 77.04167097019447, 77.04955353083163, 77.05743609146879, 77.06531865210594, 77.0732012127431, 77.08108377338026, 77.08896633401741, 77.09684889465457, 77.10473145529173, 77.11261401592888, 77.12049657656603, 77.12837913720318, 77.13626169784034, 77.1441442584775, 77.15202681911465, 77.15990937975181, 77.16779194038897, 77.17567450102612, 77.18355706166328, 77.19143962230044, 77.19932218293758, 77.20720474357474, 77.21508730421189, 77.22296986484905, 77.2308524254862, 77.23873498612336]\n",
            "Years: [2021. 2020. 2019. 2018. 2017.]\n",
            "Crime types: ['murder' 'rape' 'robbery' 'theft']\n",
            "Crime scores: [50, 25, 10, 5]\n"
          ]
        }
      ],
      "source": [
        "#Determining the cutoff lat/longs for the zones\n",
        "lat_per_km = 1 / 110.574\n",
        "long_per_km = 1 / 111.320 * math.cos(lat_avg_rad)\n",
        "lat_cutoffs = []\n",
        "for zone_num in range(lat_zones + 1):\n",
        "  lat_cutoffs.append(lat_min + lat_per_km * zone_num)\n",
        "long_cutoffs = []\n",
        "for zone_num in range(long_zones + 1):\n",
        "  long_cutoffs.append(long_min + long_per_km * zone_num)\n",
        "print('Latitude cutoffs:', lat_cutoffs)\n",
        "print('Longitude cutoffs:', long_cutoffs)"
      ]
    },
    {
      "cell_type": "code",
      "source": [
        "# Finding year, crime, and (manual) crime score values while dropping bad entries\n",
        "years = data['year'].unique()[~np.isnan(data['year'].unique())]\n",
        "print('Years:', years)\n",
        "crimes = data['category'].unique()[~pd.isnull(data['category'].unique())]\n",
        "print('Crime types:', crimes)\n",
        "crime_scores = [50, 25, 10, 5]\n",
        "print('Crime scores:', crime_scores)"
      ],
      "metadata": {
        "id": "vxCBq_OjURqb"
      },
      "execution_count": null,
      "outputs": []
    },
    {
      "cell_type": "code",
      "execution_count": null,
      "metadata": {
        "id": "BwLJgFXu6Vth"
      },
      "outputs": [],
      "source": [
        "# Creating new dataframes for each zone/year combination and adding the corresponding data to them\n",
        "region_dataframes = {}\n",
        "region_scores = {}\n",
        "region_bottom_left_cords = {}\n",
        "region_top_right_cords = {}\n",
        "column_names = [column for column in data.columns]\n",
        "for year in years:\n",
        "  for long in range(len(long_cutoffs) - 1):\n",
        "    for lat in range(len(lat_cutoffs) - 1):\n",
        "      region_dataframes['lat{0}_long{1}_year{2}_data'.format(lat, long, year)] = pd.DataFrame(columns = column_names)\n",
        "      region_scores['lat{0}_long{1}_year{2}_score'.format(lat, long, year)] = 0\n",
        "      region_bottom_left_cords['lat{0}_long{1}_year{2}_score'.format(lat, long, year)] = str(lat_cutoffs[lat]) + ',' + str(long_cutoffs[long])\n",
        "      region_top_right_cords['lat{0}_long{1}_year{2}_score'.format(lat, long, year)] = str(lat_cutoffs[lat + 1]) + ',' + str(long_cutoffs[long + 1])\n",
        "      lat_indices = set(np.where(data['lat'] > lat_cutoffs[lat])[0]) and set(np.where(data['lat'] < lat_cutoffs[lat + 1])[0])\n",
        "      long_indices = set(np.where(data['long'] > long_cutoffs[long])[0]) and set(np.where(data['long'] < long_cutoffs[long + 1])[0])\n",
        "      year_indices = set(np.where(data['year'] == year)[0])\n",
        "      region_indices = [crime for crime in lat_indices if crime in long_indices and crime in year_indices]\n",
        "      for indice in region_indices:\n",
        "          region_dataframes['lat{0}_long{1}_year{2}_data'.format(lat, long, year)].loc[len(region_dataframes['lat{0}_long{1}_year{2}_data'.format(lat, long, year)].index)] = data.iloc[indice]\n",
        "          if data['category'][indice] == crimes[0]:\n",
        "            region_scores['lat{0}_long{1}_year{2}_score'.format(lat, long, year)] += (crime_scores[0] * data['quantity'][indice])\n",
        "          elif data['category'][indice] == crimes[1]:\n",
        "            region_scores['lat{0}_long{1}_year{2}_score'.format(lat, long, year)] += (crime_scores[1] * data['quantity'][indice])\n",
        "          elif data['category'][indice] == crimes[2]:\n",
        "            region_scores['lat{0}_long{1}_year{2}_score'.format(lat, long, year)] += (crime_scores[2] * data['quantity'][indice])\n",
        "          elif data['category'][indice] == crimes[3]:\n",
        "            region_scores['lat{0}_long{1}_year{2}_score'.format(lat, long, year)] += (crime_scores[3] * data['quantity'][indice])"
      ]
    },
    {
      "cell_type": "code",
      "source": [
        "# Exporting to csv\n",
        "with open('Region Data.csv', 'w') as file:\n",
        "    writer = csv.writer(file)\n",
        "    writer.writerows([region_scores.keys(), region_scores.values(), region_bottom_left_cords.values(), region_top_right_cords.values()])"
      ],
      "metadata": {
        "id": "xKHQrqdiUU-K"
      },
      "execution_count": null,
      "outputs": []
    }
  ],
  "metadata": {
    "colab": {
      "provenance": [],
      "include_colab_link": true
    },
    "kernelspec": {
      "display_name": "Python 3",
      "name": "python3"
    },
    "language_info": {
      "name": "python"
    },
    "accelerator": "GPU",
    "gpuClass": "standard"
  },
  "nbformat": 4,
  "nbformat_minor": 0
}